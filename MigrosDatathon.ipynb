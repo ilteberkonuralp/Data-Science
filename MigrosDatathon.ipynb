{
  "nbformat": 4,
  "nbformat_minor": 0,
  "metadata": {
    "colab": {
      "provenance": [],
      "authorship_tag": "ABX9TyOiK1hBHnwSiJ0EW0TWzISG"
    },
    "kernelspec": {
      "name": "python3",
      "display_name": "Python 3"
    },
    "language_info": {
      "name": "python"
    }
  },
  "cells": [
    {
      "cell_type": "code",
      "execution_count": null,
      "metadata": {
        "id": "V3dxF3bcBpRQ"
      },
      "outputs": [],
      "source": [
        "from google.colab import drive\n",
        "drive.mount('/gdrive')\n",
        "%cd /gdrive"
      ]
    },
    {
      "cell_type": "code",
      "source": [
        "%cd MyDrive/migros-datathon-coderspace/"
      ],
      "metadata": {
        "id": "C6X1JCHlGDF5"
      },
      "execution_count": null,
      "outputs": []
    },
    {
      "cell_type": "code",
      "source": [
        "import pandas as pd\n",
        "import numpy as np\n",
        "import matplotlib.pyplot as plt\n",
        "import seaborn as sns\n",
        "import hashlib"
      ],
      "metadata": {
        "id": "9m9YOQl4CTv8"
      },
      "execution_count": null,
      "outputs": []
    },
    {
      "cell_type": "code",
      "source": [
        "# cust_acc=pd.read_csv('customeraccount.csv')\n",
        "# cust=pd.read_csv('customer.csv')\n",
        "\n",
        "# trans_header=pd.read_csv('transaction_header.csv')\n",
        "# trans_sale=pd.read_csv('transaction_sale/transaction_sale.csv')\n",
        "# train.individualnumber.__len__()==train.individualnumber.unique().__len__()\n",
        "# cust_acc.columns\n",
        "# cust.columns\n",
        "# cust_acc.shape\n",
        "# cust.shape\n",
        "# cust_merge=cust_acc.merge(cust,on='individualnumber',how='left')\n",
        "# cust_merge.describe()\n",
        "# cust_merge.city_code=cust_merge.city_code.replace(99.0,np.nan)\n",
        "# cust_merge.individualnumber=cust_merge.individualnumber.astype('string')\n",
        "# cust_merge.dateofbirth=pd.Series(np.where(cust_merge.dateofbirth>=2005,  np.nan,cust_merge.dateofbirth))\n",
        "# trans_cust_merge=trans_sale.merge(trans_header,on='basketid',how='left').merge(cust_merge,on='cardnumber',how='left')\n",
        "# .apply(lambda x:hashlib.md5(x.encode('utf-8')).hexdigest())\n",
        "# trans_cust_merge=trans_cust_merge.astype({'category_level_1':'string','category_level_2':'string','category_level_3':'string','category_level_4':'string'})\n",
        "# trans_cust_merge['hash']=trans_cust_merge[['category_level_1','category_level_2','category_level_3','category_level_4']].agg(','.join,axis=1)\n",
        "# trans_cust_merge.count()\n",
        "# trans_cust_merge.merge(new_prmerge,on='hash',how='inner').count()\n",
        "# trans_cust_merge.merge(new_prmerge,on='hash',how='left').count()\n",
        "# all_trns_data=trans_cust_merge.merge(new_prmerge,on='hash',how='left')\n",
        "# all_trns_data.info()\n",
        "# all_trns_data.drop(['date_of_transaction','hash','cardnumber'],axis=1,inplace=True)\n",
        "# all_trns_data=all_trns_data.astype({'category_level_1':int,'category_level_2':int,'category_level_3':int,'category_level_4':int})\n",
        "# all_trns_data.is_sanal=np.where(all_trns_data.is_sanal==0,'No','Yes')\n",
        "# all_trns_data.info()\n",
        "# from sklearn.impute import KNNImputer \n",
        "# def imputer(x):\n",
        "#   imputer = KNNImputer()\n",
        "#   x = pd.DataFrame(imputer.fit_transform(x),columns = x .columns)\n",
        "#   return x\n",
        "# def Standardize(x):\n",
        "#   scaler = StandardScaler()\n",
        "#   scale_data=x[['hakkedis_amt','odul_amt','amount','quantity','discount_type_2','discount_type_3']]\n",
        "#   x = x.drop(['hakkedis_amt','odul_amt','amount','quantity','discount_type_2','discount_type_3'], axis=1)\n",
        "#   scaler.fit(scale_data)\n",
        "#   scale_data = scaler.transform(scale_data)\n",
        "#   scale_data = pd.DataFrame(scale_data,columns = ['hakkedis_amt','odul_amt','amount','discount_type_2','discount_type_3'])\n",
        "#   x = pd.concat([scale_data,x], axis=1)\n",
        "#   return x\n",
        "# all_trns_data_wd=create_dummy(all_trns_data)\n",
        "# all_trns_data_wd.individualnumber.dtype\n",
        "# from sklearn.preprocessing import StandardScaler\n",
        "# def create_dummy(x):\n",
        "#   cat_variables = x.loc[:,x.dtypes==object]\n",
        "#   x = x.drop(['genel_kategori', 'gender','is_sanal'], axis=1)\n",
        "#   cat_dummies = pd.get_dummies(cat_variables, drop_first=True)\n",
        "#   x = pd.concat([x, cat_dummies], axis=1)\n",
        "#   return x\n",
        "# all_trns_data_wd.to_csv('transaction_cust_merge.csv',index=False)\n",
        "# def create_greate(x):\n",
        "#   x=x[x.amount>0].reindex(np.arange(x[x.amount>0].shape[0]))\n",
        "#   x.drop(['category_level_1','category_level_2','category_level_3','category_level_4'],axis=1,inplace=True)\n",
        "#   x.cardnumber=x.cardnumber.astype('string')\n",
        "#   x.basketid=x.basketid.astype('string')\n",
        "#   x.drop(['hash'],axis=1,inplace=True)\n",
        "#   x.drop(['date_of_transaction'],axis=1,inplace=True)\n",
        "#   x.drop(['basketid'],axis=1,inplace=True)\n",
        "#   x.drop(['city_code'],axis=1,inplace=True)\n",
        "#   x.drop(['cardnumber'],axis=1,inplace=True)\n",
        "#   x.dropna(subset=['category_number'],inplace=True)\n",
        "#   x['category_number']=x['category_number'].apply(replace_with_key)\n",
        "#   x.drop(['genel_kategori'],axis=1,inplace=True)\n",
        "#   x.individualnumber=x.individualnumber.astype('object')\n",
        "#   return x\n",
        "\n",
        "# def create_x(x):\n",
        "#   x.drop(['category_level_1','category_level_2','category_level_3','category_level_4'],axis=1,inplace=True)\n",
        "#   x.cardnumber=x.cardnumber.astype('string')\n",
        "#   x.basketid=x.basketid.astype('string')\n",
        "#   x.drop(['hash'],axis=1,inplace=True)\n",
        "#   x.drop(['date_of_transaction'],axis=1,inplace=True)\n",
        "#   x.drop(['basketid'],axis=1,inplace=True)\n",
        "#   x.drop(['city_code'],axis=1,inplace=True)\n",
        "#   x.drop(['cardnumber'],axis=1,inplace=True)\n",
        "#   x.dropna(subset=['category_number'],inplace=True)\n",
        "#   x['category_number']=x['category_number'].apply(replace_with_key)\n",
        "#   x.drop(['genel_kategori'],axis=1,inplace=True)\n",
        "#   x.individualnumber=x.individualnumber.astype('object')\n",
        "#   return x"
      ],
      "metadata": {
        "id": "GGyo45MDDMnW"
      },
      "execution_count": null,
      "outputs": []
    },
    {
      "cell_type": "code",
      "source": [
        "prod_grp=pd.read_csv('product_groups.csv')\n",
        "gen_cat=pd.read_csv('genel_kategoriler.csv')\n",
        "prod_merge=prod_grp.merge(gen_cat,on='category_number',how='left')\n",
        "prod_merge=prod_merge.astype({'category_level_1':'string','category_level_2':'string','category_level_3':'string','category_level_4':'string'})\n",
        "prod_merge['hash']=prod_merge[['category_level_1','category_level_2','category_level_3','category_level_4']].agg(','.join,axis=1)\n",
        "new_prmerge=prod_merge[['category_number','genel_kategori','hash']]\n",
        "dict_code=new_prmerge.loc[:,new_prmerge.columns!='hash'].drop_duplicates().set_index('category_number').to_dict()['genel_kategori']\n",
        "def replace_with_key(x):\n",
        "  for key in dict_code.keys():\n",
        "    if x is np.nan:\n",
        "      return np.nan\n",
        "    elif int(x)==key:\n",
        "      return dict_code[key]\n"
      ],
      "metadata": {
        "id": "VcCcWDgVmyPs"
      },
      "execution_count": null,
      "outputs": []
    },
    {
      "cell_type": "code",
      "source": [
        "keys=[]\n",
        "values=[]\n",
        "for k,v in dict_code.items():\n",
        "  keys.append(k)\n",
        "  values.append(v)\n",
        "keys=np.array(keys)\n",
        "values=np.array(values)"
      ],
      "metadata": {
        "id": "9d4Mg5FHm9_d"
      },
      "execution_count": null,
      "outputs": []
    },
    {
      "cell_type": "code",
      "source": [
        "diger=keys[values=='diger']"
      ],
      "metadata": {
        "id": "ZgGKF71noLSK"
      },
      "execution_count": null,
      "outputs": []
    },
    {
      "cell_type": "code",
      "source": [
        "train=pd.read_csv('train.csv')\n",
        "test=pd.read_csv('test.csv')\n"
      ],
      "metadata": {
        "id": "tWhsWS7tYSIA"
      },
      "execution_count": null,
      "outputs": []
    },
    {
      "cell_type": "code",
      "source": [
        "train.individualnumber.dtype"
      ],
      "metadata": {
        "id": "b-L5-oAfe5p6"
      },
      "execution_count": null,
      "outputs": []
    },
    {
      "cell_type": "code",
      "source": [
        "test.individualnumber.dtype"
      ],
      "metadata": {
        "id": "LV1oJH-Ae8Sp"
      },
      "execution_count": null,
      "outputs": []
    },
    {
      "cell_type": "code",
      "source": [
        "all_trns_data=pd.read_csv('transaction_cust_merge.csv')"
      ],
      "metadata": {
        "id": "l6Dmg7L9PGE-"
      },
      "execution_count": null,
      "outputs": []
    },
    {
      "cell_type": "code",
      "source": [
        "uti=all_trns_data.individualnumber.unique()\n",
        "ttri=train.individualnumber.unique()\n",
        "tti=test.individualnumber.unique()"
      ],
      "metadata": {
        "id": "8QdfYrBXhXN5"
      },
      "execution_count": null,
      "outputs": []
    },
    {
      "cell_type": "code",
      "source": [
        "%ls"
      ],
      "metadata": {
        "id": "NCNfS_b6K3MS"
      },
      "execution_count": null,
      "outputs": []
    },
    {
      "cell_type": "code",
      "source": [
        "list(set(list(ttri))-set(list(uti)))"
      ],
      "metadata": {
        "id": "SAXbJePQe0x5"
      },
      "execution_count": null,
      "outputs": []
    },
    {
      "cell_type": "code",
      "source": [
        "list(set(list(tti))-set(list(uti)))"
      ],
      "metadata": {
        "id": "B9ZSLtrOiBG1"
      },
      "execution_count": null,
      "outputs": []
    },
    {
      "cell_type": "code",
      "source": [
        "train_y=train.loc[:,'response']"
      ],
      "metadata": {
        "id": "TTI-FUvhiZCO"
      },
      "execution_count": null,
      "outputs": []
    },
    {
      "cell_type": "code",
      "source": [
        "train_X=train.iloc[:,train.columns!='response']"
      ],
      "metadata": {
        "id": "lDoe2mfSiixK"
      },
      "execution_count": null,
      "outputs": []
    },
    {
      "cell_type": "code",
      "source": [
        "train_X.dtypes"
      ],
      "metadata": {
        "id": "BlYhxMYjjSau"
      },
      "execution_count": null,
      "outputs": []
    },
    {
      "cell_type": "code",
      "source": [
        "train_X.category_number=train_X.category_number.astype(float)"
      ],
      "metadata": {
        "id": "DzTHEYu7jWo0"
      },
      "execution_count": null,
      "outputs": []
    },
    {
      "cell_type": "code",
      "source": [
        "train_X.category_number.dtype"
      ],
      "metadata": {
        "id": "QH7XS2mDjyQB"
      },
      "execution_count": null,
      "outputs": []
    },
    {
      "cell_type": "code",
      "source": [
        "train_test_full=test.merge(train_X,on=['individualnumber','category_number','hakkedis_amt','odul_amt'],how='outer')"
      ],
      "metadata": {
        "id": "SZ4e1dP2Z3oE"
      },
      "execution_count": null,
      "outputs": []
    },
    {
      "cell_type": "code",
      "source": [
        "all_trns_data.discount_type_1=all_trns_data.discount_type_1.fillna(all_trns_data.discount_type_1.median())"
      ],
      "metadata": {
        "id": "rE_Kyy51ayxj"
      },
      "execution_count": null,
      "outputs": []
    },
    {
      "cell_type": "code",
      "source": [
        "all_trns_data.city_code=all_trns_data.city_code.fillna(all_trns_data.city_code.mode()[0])"
      ],
      "metadata": {
        "id": "U6vovMUVbOdU"
      },
      "execution_count": null,
      "outputs": []
    },
    {
      "cell_type": "code",
      "source": [
        "diger=diger.astype(float)"
      ],
      "metadata": {
        "id": "PRjV8ed9pZr_"
      },
      "execution_count": null,
      "outputs": []
    },
    {
      "cell_type": "code",
      "source": [
        "import random\n",
        "def impute_cat(col):\n",
        "    a = col.values\n",
        "    m = np.isnan(a)\n",
        "    a[m] = random.choices(diger,k=m.sum())\n",
        "    return col"
      ],
      "metadata": {
        "id": "wC1zMVM7o29P"
      },
      "execution_count": null,
      "outputs": []
    },
    {
      "cell_type": "code",
      "source": [
        "all_trns_data.category_number=impute_cat(all_trns_data.category_number)"
      ],
      "metadata": {
        "id": "bCs-gcvNcdly"
      },
      "execution_count": null,
      "outputs": []
    },
    {
      "cell_type": "code",
      "source": [
        "all_trns_data.dateofbirth=pd.Series(np.where(all_trns_data.dateofbirth<1950,np.nan,all_trns_data.dateofbirth))"
      ],
      "metadata": {
        "id": "K36REqlQs4NL"
      },
      "execution_count": null,
      "outputs": []
    },
    {
      "cell_type": "code",
      "source": [
        "bdates=all_trns_data.dateofbirth[~all_trns_data.dateofbirth.isna()].unique()"
      ],
      "metadata": {
        "id": "_5uN6EmOta5c"
      },
      "execution_count": null,
      "outputs": []
    },
    {
      "cell_type": "code",
      "source": [
        "\n",
        "def impute_dob(col):\n",
        "    a = col.values\n",
        "    m = np.isnan(a)\n",
        "    a[m] = random.choices(bdates,k=m.sum())\n",
        "    return col"
      ],
      "metadata": {
        "id": "muepaHK7th5J"
      },
      "execution_count": null,
      "outputs": []
    },
    {
      "cell_type": "code",
      "source": [
        "all_trns_data.dateofbirth=impute_dob(all_trns_data.dateofbirth)"
      ],
      "metadata": {
        "id": "hF-nN1W_tmUK"
      },
      "execution_count": null,
      "outputs": []
    },
    {
      "cell_type": "code",
      "source": [
        "all_trns_data.discount_type_2=all_trns_data.discount_type_2.fillna(all_trns_data.discount_type_2.mean())"
      ],
      "metadata": {
        "id": "Vt5HyhTCt_Ui"
      },
      "execution_count": null,
      "outputs": []
    },
    {
      "cell_type": "code",
      "source": [
        "all_trns_data.discount_type_3=all_trns_data.discount_type_3.fillna(all_trns_data.discount_type_3.mean())"
      ],
      "metadata": {
        "id": "ExhIvnuiuFRA"
      },
      "execution_count": null,
      "outputs": []
    },
    {
      "cell_type": "code",
      "source": [
        "make_great=all_trns_data.merge(train_test_full,on=['individualnumber','category_number'],how='outer')"
      ],
      "metadata": {
        "id": "oEbrTumaiS8e"
      },
      "execution_count": null,
      "outputs": []
    },
    {
      "cell_type": "code",
      "source": [
        "\n",
        "def found_cat(df):\n",
        "  check=values[df.category_number==keys]\n",
        "  if check=='gida':\n",
        "      df.genel_kategori_gida=1\n",
        "      df.genel_kategori_hijyen=0\n",
        "      df.genel_kategori_icecek=0\n",
        "      df.genel_kategori_kisisel_bakim=0\n",
        "      return df\n",
        "  elif check=='hijyen':\n",
        "      df.genel_kategori_gida=0\n",
        "      df.genel_kategori_hijyen=1\n",
        "      df.genel_kategori_icecek=0\n",
        "      df.genel_kategori_kisisel_bakim=0\n",
        "      return df\n",
        "  elif check=='icecek':\n",
        "      df.genel_kategori_gida=0\n",
        "      df.genel_kategori_hijyen=0\n",
        "      df.genel_kategori_icecek=1\n",
        "      df.genel_kategori_kisisel_bakim=0\n",
        "      return df\n",
        "  elif check=='kisisel_bakim':\n",
        "      df.genel_kategori_gida=0\n",
        "      df.genel_kategori_hijyen=0\n",
        "      df.genel_kategori_icecek=0\n",
        "      df.genel_kategori_kisisel_bakim=1\n",
        "      return df\n",
        "  else:\n",
        "    df.genel_kategori_gida=0\n",
        "    df.genel_kategori_hijyen=0\n",
        "    df.genel_kategori_icecek=0\n",
        "    df.genel_kategori_kisisel_bakim=0\n",
        "    return df"
      ],
      "metadata": {
        "id": "f_CoQRvMvXhZ"
      },
      "execution_count": null,
      "outputs": []
    },
    {
      "cell_type": "code",
      "source": [
        "ttt=make_great[~make_great.hakkedis_amt.isna()].reset_index(drop=True)"
      ],
      "metadata": {
        "id": "FIAb2ewLu7FO"
      },
      "execution_count": null,
      "outputs": []
    },
    {
      "cell_type": "code",
      "source": [
        "ttt=ttt.apply(found_cat,axis=1)"
      ],
      "metadata": {
        "id": "WrbsutDQzOlZ"
      },
      "execution_count": null,
      "outputs": []
    },
    {
      "cell_type": "code",
      "source": [
        "ttt.amount=ttt.amount.fillna(all_trns_data.amount.mean())"
      ],
      "metadata": {
        "id": "T_cQj23nAeg3"
      },
      "execution_count": null,
      "outputs": []
    },
    {
      "cell_type": "code",
      "source": [
        "ttt.dateofbirth=impute_dob(ttt.dateofbirth)"
      ],
      "metadata": {
        "id": "SIj-QjqVB_Cs"
      },
      "execution_count": null,
      "outputs": []
    },
    {
      "cell_type": "code",
      "source": [
        "def impute_gen(col):\n",
        "    a = col.values\n",
        "    m = np.isnan(a)\n",
        "    a[m] = random.choices([0,1],k=m.sum())\n",
        "    return col"
      ],
      "metadata": {
        "id": "oOUhiFx9Fu7q"
      },
      "execution_count": null,
      "outputs": []
    },
    {
      "cell_type": "code",
      "source": [
        "ttt.gender_K=impute_gen(ttt.gender_K).astype(int)"
      ],
      "metadata": {
        "id": "INS2XGhvF1NL"
      },
      "execution_count": null,
      "outputs": []
    },
    {
      "cell_type": "code",
      "source": [
        "def impute_is_sanal(col):\n",
        "    a = col.values\n",
        "    m = np.isnan(a)\n",
        "    a[m] = random.choices([0,1],k=m.sum(),weights=[0.84,0.16])\n",
        "    return col"
      ],
      "metadata": {
        "id": "mw-FdQsRGScE"
      },
      "execution_count": null,
      "outputs": []
    },
    {
      "cell_type": "code",
      "source": [
        "(all_trns_data.is_sanal_Yes==0).sum()/(all_trns_data.is_sanal_Yes.__len__())"
      ],
      "metadata": {
        "id": "OwLBgOOgGZfF"
      },
      "execution_count": null,
      "outputs": []
    },
    {
      "cell_type": "code",
      "source": [
        "ttt.is_sanal_Yes=impute_is_sanal(ttt.is_sanal_Yes).astype(int)"
      ],
      "metadata": {
        "id": "jADJnx8lGpj6"
      },
      "execution_count": null,
      "outputs": []
    },
    {
      "cell_type": "code",
      "source": [
        "maxcities=all_trns_data.city_code.value_counts().index[0:5].astype(int)"
      ],
      "metadata": {
        "id": "4SYneNcmI2q_"
      },
      "execution_count": null,
      "outputs": []
    },
    {
      "cell_type": "code",
      "source": [
        "ratios=(all_trns_data.city_code.value_counts()/all_trns_data.shape[0]).values[0:5]"
      ],
      "metadata": {
        "id": "Uj9G--gWQMdG"
      },
      "execution_count": null,
      "outputs": []
    },
    {
      "cell_type": "code",
      "source": [
        "def impute_cc(col):\n",
        "    a = col.values\n",
        "    m = np.isnan(a)\n",
        "    a[m] = random.choices(maxcities,k=m.sum(),weights=ratios)\n",
        "    return col"
      ],
      "metadata": {
        "id": "4OBb-9nDP_76"
      },
      "execution_count": null,
      "outputs": []
    },
    {
      "cell_type": "code",
      "source": [
        "ttt.city_code=impute_cc(ttt.city_code).astype(int)"
      ],
      "metadata": {
        "id": "rcl_Za1_Qg77"
      },
      "execution_count": null,
      "outputs": []
    },
    {
      "cell_type": "code",
      "source": [
        "ttt.discount_type_1=ttt.discount_type_1.fillna(all_trns_data.discount_type_1.mode()[0])"
      ],
      "metadata": {
        "id": "7sMS2P-AS8gg"
      },
      "execution_count": null,
      "outputs": []
    },
    {
      "cell_type": "code",
      "source": [
        "ttt.discount_type_2=ttt.discount_type_2.fillna(all_trns_data.discount_type_2.mode()[0])"
      ],
      "metadata": {
        "id": "JxFGcJHwTc2n"
      },
      "execution_count": null,
      "outputs": []
    },
    {
      "cell_type": "code",
      "source": [
        "ttt.discount_type_3=ttt.discount_type_3.fillna(all_trns_data.discount_type_3.mode()[0])"
      ],
      "metadata": {
        "id": "FS6moSudTf2n"
      },
      "execution_count": null,
      "outputs": []
    },
    {
      "cell_type": "code",
      "source": [
        "dict_of_mean_qc=all_trns_data.loc[:,['quantity','category_number']].groupby('category_number').mean().to_dict()['quantity']"
      ],
      "metadata": {
        "id": "DUWJ3oNwTkfQ"
      },
      "execution_count": null,
      "outputs": []
    },
    {
      "cell_type": "code",
      "source": [
        "def replace_with_key(df):\n",
        "  for key in dict_of_mean_qc.keys():\n",
        "    if df.category_number==key:\n",
        "      # print(df.quantity)\n",
        "      df.quantity=round(dict_of_mean_qc[key],2)\n",
        "      return df\n",
        "  else:\n",
        "    df.quantity=all_trns_data.quantity.mean()\n",
        "    return df"
      ],
      "metadata": {
        "id": "3DNOTEhAU_b9"
      },
      "execution_count": null,
      "outputs": []
    },
    {
      "cell_type": "code",
      "source": [
        "ttt[ttt.quantity.isna()]=ttt[ttt.quantity.isna()].apply(replace_with_key,axis=1)"
      ],
      "metadata": {
        "id": "USg5ACHzYkQ5"
      },
      "execution_count": null,
      "outputs": []
    },
    {
      "cell_type": "code",
      "source": [
        "ttt.shape"
      ],
      "metadata": {
        "id": "itI4JKnkd9cB"
      },
      "execution_count": null,
      "outputs": []
    },
    {
      "cell_type": "code",
      "source": [
        "ttt.drop(['basketid','category_level_1','category_level_2','category_level_3','category_level_4'],axis=1,inplace=True)"
      ],
      "metadata": {
        "id": "mlyjR71IBG4A"
      },
      "execution_count": null,
      "outputs": []
    },
    {
      "cell_type": "code",
      "source": [
        "ttt.head(4)"
      ],
      "metadata": {
        "id": "fswz87x5E-_M"
      },
      "execution_count": null,
      "outputs": []
    },
    {
      "cell_type": "code",
      "source": [
        "ttt['flag1']=((ttt.amount)>ttt.hakkedis_amt).astype(int)"
      ],
      "metadata": {
        "id": "O03-wfVFFCul"
      },
      "execution_count": null,
      "outputs": []
    },
    {
      "cell_type": "code",
      "source": [
        "ttt_m=ttt.groupby(['individualnumber','category_number']).mean().reset_index()"
      ],
      "metadata": {
        "id": "U5dhlAVjFp-2"
      },
      "execution_count": null,
      "outputs": []
    },
    {
      "cell_type": "code",
      "source": [
        "train_X.columns"
      ],
      "metadata": {
        "id": "1GQv2JgOOXGJ"
      },
      "execution_count": null,
      "outputs": []
    },
    {
      "cell_type": "code",
      "source": [
        "test.shape"
      ],
      "metadata": {
        "id": "U8Er8-JCOi6D"
      },
      "execution_count": null,
      "outputs": []
    },
    {
      "cell_type": "code",
      "source": [
        "new_test=ttt_m.merge(test,on=['individualnumber', 'category_number', 'hakkedis_amt', 'odul_amt'],how='inner')"
      ],
      "metadata": {
        "id": "keIeDlGkOp5l"
      },
      "execution_count": null,
      "outputs": []
    },
    {
      "cell_type": "code",
      "source": [
        "new_train=ttt_m.merge(train_X,on=['individualnumber', 'category_number', 'hakkedis_amt', 'odul_amt'],how='inner')"
      ],
      "metadata": {
        "id": "GgaaiyhrOR0n"
      },
      "execution_count": null,
      "outputs": []
    },
    {
      "cell_type": "code",
      "source": [
        "new_train.flag1=np.where(new_train.flag1>=0.5,1,0)"
      ],
      "metadata": {
        "id": "hJhAzMsmOxMw"
      },
      "execution_count": null,
      "outputs": []
    },
    {
      "cell_type": "code",
      "source": [
        "new_test.flag1=np.where(new_test.flag1>=0.5,1,0)"
      ],
      "metadata": {
        "id": "BcEbM1iJPXq1"
      },
      "execution_count": null,
      "outputs": []
    },
    {
      "cell_type": "code",
      "source": [
        "train_ws=new_train.drop(['individualnumber','category_number'],axis=1)\n",
        "train_wot=new_train.drop(['individualnumber','genel_kategori_kisisel_bakim','genel_kategori_gida','genel_kategori_hijyen','genel_kategori_icecek'],axis=1)\n",
        "test_ws=new_test.drop(['individualnumber','category_number'],axis=1)\n",
        "test_wot=new_test.drop(['individualnumber','genel_kategori_kisisel_bakim','genel_kategori_gida','genel_kategori_hijyen','genel_kategori_icecek'],axis=1)\n"
      ],
      "metadata": {
        "id": "DJhTHWBBPlni"
      },
      "execution_count": null,
      "outputs": []
    },
    {
      "cell_type": "code",
      "source": [
        "# data_trans=all_trns_data.groupby(['individualnumber','category_number','gender']).mean().reset_index()\n",
        "# train.category_number=train.category_number.apply(replace_with_key)\n",
        "# test.category_number=test.category_number.apply(replace_with_key)\n",
        "# train.category_number=train.category_number.astype('object')\n",
        "# train.individualnumber=train.individualnumber.astype('object')\n",
        "# test.category_number=test.category_number.astype('object')\n",
        "# test.individualnumber=test.individualnumber.astype('object')\n",
        "# train_X=train.iloc[:,train.columns!='response']\n",
        "# train_y=train.iloc[:,train.columns=='response']\n",
        "# data_trans[data_trans.individualnumber=='92472145']\n",
        "# data_trans.individualnumber=data_trans.individualnumber.astype(int)\n",
        "# train_X.individualnumber=train_X.individualnumber.astype(int)\n",
        "# test.individualnumber=test.individualnumber.astype(int)\n",
        "# train_X=pd.merge(train_X,data_trans ,left_on=['individualnumber','category_number'],right_on=['individualnumber','category_number'], how='left')\n",
        "# test=test.merge(data_trans ,on=['individualnumber','category_number'], how='left')\n",
        "# test.drop('discount_type_1',axis=1,inplace=True)\n",
        "# train_X.drop('discount_type_1',axis=1,inplace=True)\n",
        "# train_X.drop(['individualnumber'],axis=1,inplace=True)\n",
        "# test.drop(['individualnumber'],axis=1,inplace=True)\n",
        "# train_X.is_sanal=np.where(train_X.is_sanal<0.5,'No','Yes')\n",
        "# test.is_sanal=np.where(test.is_sanal<0.5,'No','Yes')\n",
        "# train_X_wd_i_s = Standardize(train_X_wd_i) # Train data with standardized\n",
        "# test_wd_i_s = Standardize(test_wd_i) # Test data with standardized"
      ],
      "metadata": {
        "id": "y9l735WSB90q"
      },
      "execution_count": null,
      "outputs": []
    },
    {
      "cell_type": "code",
      "source": [
        "# !pip install verstack"
      ],
      "metadata": {
        "id": "hlepa74n9eB2"
      },
      "execution_count": null,
      "outputs": []
    },
    {
      "cell_type": "markdown",
      "source": [
        "## **Decision Tree**"
      ],
      "metadata": {
        "id": "fKXTmdxIvuM6"
      }
    },
    {
      "cell_type": "code",
      "source": [
        "from sklearn.tree import DecisionTreeClassifier\n",
        "from sklearn.metrics import classification_report\n",
        "from sklearn.metrics import confusion_matrix"
      ],
      "metadata": {
        "id": "IYqx7VQ9UDay"
      },
      "execution_count": null,
      "outputs": []
    },
    {
      "cell_type": "code",
      "source": [
        "results = []\n",
        "number_of_pos_pred=[]\n",
        "# max_depth_options = [2,4,6,8,10,12,14,16,18,20,25,30,35,40,45,50,55]\n",
        "max_depth_options = [45]\n",
        "for trees in max_depth_options:\n",
        "    model = DecisionTreeClassifier(max_depth=trees, random_state=101)\n",
        "    model.fit(train_ws, train_y)\n",
        "    y_pred_train = model.predict(train_ws)\n",
        "    y_pred_dt_ws = model.predict(test_ws)\n",
        "    accuracy = np.mean(train_y==y_pred_train)\n",
        "    number_of_pos_pred.append(sum(y_pred_dt_ws==1))\n",
        "    results.append(accuracy)\n",
        "print('max pos: ',max(number_of_pos_pred))\n",
        "\n",
        "print(y_pred_dt_ws)\n",
        "plt.figure(figsize=(8,4))\n",
        "pd.Series(number_of_pos_pred, max_depth_options).plot(color=\"darkred\",marker=\"o\")\n",
        "plt.show()"
      ],
      "metadata": {
        "id": "EDSdJwAIxc2Q"
      },
      "execution_count": null,
      "outputs": []
    },
    {
      "cell_type": "code",
      "source": [
        "results = []\n",
        "number_of_pos_pred=[]\n",
        "# max_depth_options = [2,4,6,8,10,12,14,16,18,20,25,30,35,40,45,50,55]\n",
        "max_depth_options = [45]\n",
        "for trees in max_depth_options:\n",
        "    model = DecisionTreeClassifier(max_depth=trees, random_state=101)\n",
        "    model.fit(train_wot, train_y)\n",
        "    y_pred_train = model.predict(train_wot)\n",
        "    y_pred_dt_wot = model.predict(test_wot)\n",
        "    accuracy = np.mean(train_y==y_pred_train)\n",
        "    number_of_pos_pred.append(sum(y_pred_dt_wot==1))\n",
        "    results.append(accuracy)\n",
        "print('max pos: ',max(number_of_pos_pred))\n",
        "print(number_of_pos_pred)\n",
        "plt.figure(figsize=(8,4))\n",
        "pd.Series(number_of_pos_pred, max_depth_options).plot(color=\"darkred\",marker=\"o\")"
      ],
      "metadata": {
        "id": "gNGxSieyAgEC"
      },
      "execution_count": null,
      "outputs": []
    },
    {
      "cell_type": "code",
      "source": [
        "test_res=pd.read_csv('test.csv')\n",
        "res=pd.concat([test_res.individualnumber,pd.DataFrame(y_pred_dt_ws,columns=['response'])],axis=1)\n",
        "y_pred_dt_ws.shape\n",
        "res.to_csv('results_dt_ws.csv',index=False)"
      ],
      "metadata": {
        "id": "ijf-C6aYJAFF"
      },
      "execution_count": null,
      "outputs": []
    },
    {
      "cell_type": "code",
      "source": [
        "test_res=pd.read_csv('test.csv')\n",
        "res=pd.concat([test_res.individualnumber,pd.DataFrame(y_pred_dt_wot,columns=['response'])],axis=1)\n",
        "res.to_csv('results_dt_wot.csv',index=False)"
      ],
      "metadata": {
        "id": "j4q_HQPpJvo4"
      },
      "execution_count": null,
      "outputs": []
    },
    {
      "cell_type": "markdown",
      "source": [
        "## **KNN**"
      ],
      "metadata": {
        "id": "o14xAM6Ivljs"
      }
    },
    {
      "cell_type": "code",
      "source": [
        "from sklearn.neighbors import KNeighborsClassifier\n",
        "from sklearn.metrics import classification_report\n",
        "from sklearn.metrics import confusion_matrix"
      ],
      "metadata": {
        "id": "bAZiQm7TtlqU"
      },
      "execution_count": null,
      "outputs": []
    },
    {
      "cell_type": "code",
      "source": [
        "results = []\n",
        "number_of_pos_pred=[]\n",
        "# nneighbors=[i for i in range(1,16)]\n",
        "nneighbors=[1]\n",
        "for i in nneighbors:    \n",
        "    model = KNeighborsClassifier(n_neighbors=i)\n",
        "    model.fit(train_ws, train_y)\n",
        "    y_pred_train = model.predict(train_ws)\n",
        "    y_pred_knn_ws = model.predict(test_ws)\n",
        "    accuracy = np.mean(train_y==y_pred_train)\n",
        "    number_of_pos_pred.append(sum(y_pred_knn_ws==1))\n",
        "    results.append(accuracy)\n",
        "print('max pos: ',max(number_of_pos_pred))\n",
        "max_value = max(number_of_pos_pred)\n",
        "print(nneighbors[number_of_pos_pred.index(max_value)])\n",
        "# plt.figure(figsize=(8,4))\n",
        "# pd.Series(number_of_pos_pred, nneighbors).plot(color=\"darkred\",marker=\"o\")"
      ],
      "metadata": {
        "id": "1ynCXstsuO6B"
      },
      "execution_count": null,
      "outputs": []
    },
    {
      "cell_type": "code",
      "source": [
        "test_res=pd.read_csv('test.csv')\n",
        "res=pd.concat([test_res.individualnumber,pd.DataFrame(y_pred_knn_ws,columns=['response'])],axis=1)\n",
        "res.to_csv('results_knn_ws.csv',index=False)"
      ],
      "metadata": {
        "id": "RLxTiy07LXIV"
      },
      "execution_count": null,
      "outputs": []
    },
    {
      "cell_type": "code",
      "source": [
        "plt.figure(figsize=(8,4))\n",
        "plt.plot(np.array(nneighbors),1-np.array(results),color='darkred', marker='o',markersize=10)\n",
        "plt.title('Error Rate vs. K Value')\n",
        "plt.xlabel('K')\n",
        "plt.ylabel('Error Rate')"
      ],
      "metadata": {
        "id": "SJdU7WKiA7Wm"
      },
      "execution_count": null,
      "outputs": []
    },
    {
      "cell_type": "code",
      "source": [
        "results = []\n",
        "number_of_pos_pred=[]\n",
        "# nneighbors=[i for i in range(1,16)]\n",
        "nneighbors=[1]\n",
        "for i in nneighbors:    \n",
        "    model = KNeighborsClassifier(n_neighbors=i)\n",
        "    model.fit(train_wot, train_y)\n",
        "    y_pred_train = model.predict(train_wot)\n",
        "    y_pred_knn_wot = model.predict(test_wot)\n",
        "    accuracy = np.mean(train_y==y_pred_train)\n",
        "    number_of_pos_pred.append(sum(y_pred_knn_wot==1))\n",
        "    results.append(accuracy)\n",
        "print('max pos: ',max(number_of_pos_pred))\n",
        "max_value = max(number_of_pos_pred)\n",
        "print(nneighbors[number_of_pos_pred.index(max_value)])\n",
        "# plt.figure(figsize=(8,4))\n",
        "# pd.Series(number_of_pos_pred, nneighbors).plot(color=\"darkred\",marker=\"o\")"
      ],
      "metadata": {
        "id": "gPT70fpuAwOM"
      },
      "execution_count": null,
      "outputs": []
    },
    {
      "cell_type": "code",
      "source": [
        "test_res=pd.read_csv('test.csv')\n",
        "res=pd.concat([test_res.individualnumber,pd.DataFrame(y_pred_knn_wot,columns=['response'])],axis=1)\n",
        "res.to_csv('results_knn_wot.csv',index=False)"
      ],
      "metadata": {
        "id": "ZvhVe6pFLi2T"
      },
      "execution_count": null,
      "outputs": []
    },
    {
      "cell_type": "code",
      "source": [
        "plt.figure(figsize=(8,4))\n",
        "plt.plot(np.array(nneighbors),1-np.array(results),color='darkred', marker='o',markersize=10)\n",
        "plt.title('Error Rate vs. K Value')\n",
        "plt.xlabel('K')\n",
        "plt.ylabel('Error Rate')"
      ],
      "metadata": {
        "id": "U-HL9dzyukbS"
      },
      "execution_count": null,
      "outputs": []
    },
    {
      "cell_type": "markdown",
      "source": [
        "## **Logistic Regression**\n"
      ],
      "metadata": {
        "id": "IyTfTw2QvdPT"
      }
    },
    {
      "cell_type": "code",
      "source": [
        "from sklearn.linear_model import LogisticRegression"
      ],
      "metadata": {
        "id": "KBHVKTIfys4G"
      },
      "execution_count": null,
      "outputs": []
    },
    {
      "cell_type": "code",
      "source": [
        "lr =  LogisticRegression()\n",
        "lr.fit(train_ws, train_y)\n",
        "y_pred=lr.predict(test_ws)\n",
        "y_pred_train=lr.predict(train_ws)\n",
        "sum(y_pred>=0.5)"
      ],
      "metadata": {
        "id": "7uMhV3ZZysbi"
      },
      "execution_count": null,
      "outputs": []
    },
    {
      "cell_type": "code",
      "source": [
        "lr =  LogisticRegression()\n",
        "lr.fit(train_wot, train_y)\n",
        "y_pred=lr.predict(test_wot)\n",
        "y_pred_train=lr.predict(train_wot)\n",
        "sum(y_pred==1)"
      ],
      "metadata": {
        "id": "Puqk1Y9mBEar"
      },
      "execution_count": null,
      "outputs": []
    },
    {
      "cell_type": "markdown",
      "source": [
        "## **Naive Bayes**"
      ],
      "metadata": {
        "id": "KJ-OvUXUzy3H"
      }
    },
    {
      "cell_type": "code",
      "source": [
        "from sklearn.naive_bayes import GaussianNB"
      ],
      "metadata": {
        "id": "JQBBPiLnzW6G"
      },
      "execution_count": null,
      "outputs": []
    },
    {
      "cell_type": "code",
      "source": [
        "nb =  GaussianNB()\n",
        "nb.fit(train_ws, train_y)\n",
        "y_pred_nb=nb.predict(test_ws)\n",
        "sum(y_pred_nb>=0.5)"
      ],
      "metadata": {
        "id": "5rQetxYzz7c1"
      },
      "execution_count": null,
      "outputs": []
    },
    {
      "cell_type": "code",
      "source": [
        "test_res=pd.read_csv('test.csv')\n",
        "res=pd.concat([test_res.individualnumber,pd.DataFrame(y_pred_nb,columns=['response'])],axis=1)\n",
        "res.to_csv('results_nb_ws.csv',index=False)"
      ],
      "metadata": {
        "id": "dbHH4vA7R-xQ"
      },
      "execution_count": null,
      "outputs": []
    },
    {
      "cell_type": "code",
      "source": [
        "nb =  GaussianNB()\n",
        "nb.fit(train_wot, train_y)\n",
        "y_pred=nb.predict(test_wot)\n",
        "sum(y_pred==1)"
      ],
      "metadata": {
        "id": "vk_pim9yBO_Z"
      },
      "execution_count": null,
      "outputs": []
    },
    {
      "cell_type": "markdown",
      "source": [
        "## **Random Forest**"
      ],
      "metadata": {
        "id": "-TCjFbv00OlZ"
      }
    },
    {
      "cell_type": "code",
      "source": [
        "from sklearn.ensemble import RandomForestClassifier\n",
        "clf = RandomForestClassifier(max_depth=70, random_state=42)\n",
        "clf.fit(train_ws,train_y)\n",
        "train_preds=clf.predict(train_ws)\n",
        "preds = clf.predict(test_ws)\n",
        "\n",
        "(preds==1).sum()\n",
        "accuracy= np.sqrt(accuracy_score(train_preds, train_y))\n",
        "print(\"Accuracy : %f\" % (accuracy))"
      ],
      "metadata": {
        "id": "lZzSjz9uVBF8"
      },
      "execution_count": null,
      "outputs": []
    },
    {
      "cell_type": "code",
      "source": [
        "results = []\n",
        "number_of_pos_pred=[]\n",
        "n_estimator_options = np.arange(5,250,5)\n",
        "# n_estimator_options = []\n",
        "for trees in n_estimator_options:\n",
        "    model = RandomForestClassifier(trees, n_jobs=-1, random_state=101)\n",
        "    model.fit(train_ws, train_y)\n",
        "    y_pred_rf_ws = model.predict(test_ws)\n",
        "    y_pred_train = model.predict(train_ws)\n",
        "    accuracy = np.mean(y_pred_train==train_y)\n",
        "    results.append(accuracy)\n",
        "    number_of_pos_pred.append(sum(y_pred_rf_ws==1))\n",
        "print('max pos: ',max(number_of_pos_pred))\n",
        "max_value = max(number_of_pos_pred)\n",
        "print(n_estimator_options[number_of_pos_pred.index(max_value)])\n",
        "# plt.figure(figsize=(8,4))\n",
        "# pd.Series(number_of_pos_pred, n_estimator_options).plot(color=\"darkred\",marker=\"o\")"
      ],
      "metadata": {
        "id": "vFmvEU520fx-"
      },
      "execution_count": null,
      "outputs": []
    },
    {
      "cell_type": "code",
      "source": [
        "test_res=pd.read_csv('test.csv')\n",
        "res=pd.concat([test_res.individualnumber,pd.DataFrame(y_pred_rf_ws,columns=['response'])],axis=1)\n",
        "res.to_csv('results_rf_ws.csv',index=False)"
      ],
      "metadata": {
        "id": "oEBRWKRIMAp5"
      },
      "execution_count": null,
      "outputs": []
    },
    {
      "cell_type": "code",
      "source": [
        "results = []\n",
        "number_of_pos_pred=[]\n",
        "# n_estimator_options = np.arange(5,250,5)\n",
        "n_estimator_options = [105]\n",
        "for trees in n_estimator_options:\n",
        "    model = RandomForestClassifier(trees, n_jobs=-1, random_state=101)\n",
        "    model.fit(train_wot, train_y)\n",
        "    y_pred_rf_wot = model.predict(test_wot)\n",
        "    y_pred_train = model.predict(test_wot)\n",
        "    accuracy = np.mean(y_pred_train==train_y)\n",
        "    results.append(accuracy)\n",
        "    number_of_pos_pred.append(sum(y_pred_rf_wot==1))\n",
        "print('max pos: ',max(number_of_pos_pred))\n",
        "max_value = max(number_of_pos_pred)\n",
        "print(n_estimator_options[number_of_pos_pred.index(max_value)])\n",
        "# plt.figure(figsize=(8,4))\n",
        "# pd.Series(number_of_pos_pred, n_estimator_options).plot(color=\"darkred\",marker=\"o\")"
      ],
      "metadata": {
        "id": "VAe9KcNABVb9"
      },
      "execution_count": null,
      "outputs": []
    },
    {
      "cell_type": "code",
      "source": [
        "test_res=pd.read_csv('test.csv')\n",
        "res=pd.concat([test_res.individualnumber,pd.DataFrame(y_pred_rf_wot,columns=['response'])],axis=1)\n",
        "res.to_csv('results_rf_wot.csv',index=False)"
      ],
      "metadata": {
        "id": "Fvnb7eMuNiKM"
      },
      "execution_count": null,
      "outputs": []
    },
    {
      "cell_type": "markdown",
      "source": [
        "## **Stochastic Gradient Descent**"
      ],
      "metadata": {
        "id": "gHUz1DZi1WPm"
      }
    },
    {
      "cell_type": "code",
      "source": [
        "from sklearn.linear_model import SGDClassifier"
      ],
      "metadata": {
        "id": "L6hq9lWv1lWY"
      },
      "execution_count": null,
      "outputs": []
    },
    {
      "cell_type": "code",
      "source": [
        "sgd =  SGDClassifier(loss='modified_huber', shuffle=True,random_state=101)\n",
        "sgd.fit(train_ws, train_y)\n",
        "y_pred=sgd.predict(test_ws)\n",
        "sum(y_pred>=0.5)"
      ],
      "metadata": {
        "id": "t1Z0GB7m1qTq"
      },
      "execution_count": null,
      "outputs": []
    },
    {
      "cell_type": "code",
      "source": [
        "sgd =  SGDClassifier(loss='modified_huber', shuffle=True,random_state=101)\n",
        "sgd.fit(train_wot, train_y)\n",
        "y_pred=sgd.predict(test_wot)\n",
        "sum(y_pred>=0.5)"
      ],
      "metadata": {
        "id": "Ys-MsYJiBagE"
      },
      "execution_count": null,
      "outputs": []
    },
    {
      "cell_type": "markdown",
      "source": [
        "## **Support Vector Machine**"
      ],
      "metadata": {
        "id": "ZSdOH_vC15Ib"
      }
    },
    {
      "cell_type": "code",
      "source": [
        "from sklearn.svm import SVC"
      ],
      "metadata": {
        "id": "e8qL6Vz_1_oq"
      },
      "execution_count": null,
      "outputs": []
    },
    {
      "cell_type": "code",
      "source": [
        "svm =  SVC(kernel=\"rbf\", C=0.025,random_state=101)\n",
        "svm.fit(train_ws, train_y)\n",
        "y_pred=svm.predict(test_ws)\n",
        "print(sum(y_pred==1))\n",
        "svm =  SVC(kernel=\"linear\", C=0.025,random_state=101)\n",
        "svm.fit(train_ws, train_y)\n",
        "y_pred=svm.predict(test_ws)\n",
        "print(sum(y_pred==1))\n",
        "svm =  SVC(kernel=\"poly\", C=0.025,random_state=101)\n",
        "svm.fit(train_ws, train_y)\n",
        "y_pred=svm.predict(test_ws)\n",
        "print(sum(y_pred==1))"
      ],
      "metadata": {
        "id": "mO10X-Fi2CkB"
      },
      "execution_count": null,
      "outputs": []
    },
    {
      "cell_type": "code",
      "source": [
        "svm =  SVC(kernel=\"rbf\", C=0.025,random_state=101)\n",
        "svm.fit(train_wot, train_y)\n",
        "y_pred=svm.predict(test_wot)\n",
        "print(sum(y_pred==1))\n",
        "svm =  SVC(kernel=\"linear\", C=0.025,random_state=101)\n",
        "svm.fit(train_wot, train_y)\n",
        "y_pred=svm.predict(test_wot)\n",
        "print(sum(y_pred==1))\n",
        "svm =  SVC(kernel=\"poly\", C=0.025,random_state=101)\n",
        "svm.fit(train_wot, train_y)\n",
        "y_pred=svm.predict(test_wot)\n",
        "print(sum(y_pred==1))"
      ],
      "metadata": {
        "id": "sbS6ovl_Bhax"
      },
      "execution_count": null,
      "outputs": []
    },
    {
      "cell_type": "markdown",
      "source": [
        "## **Neural Network**"
      ],
      "metadata": {
        "id": "JARLoKOy3e1Q"
      }
    },
    {
      "cell_type": "code",
      "source": [
        "import keras\n",
        "from keras.layers import Dense\n",
        "from keras.layers import Dropout\n",
        "from keras.layers import Flatten\n",
        "from keras.models import Sequential\n",
        "from keras.optimizers import Adam\n",
        "from keras.wrappers.scikit_learn import KerasClassifier\n",
        "from sklearn.model_selection import GridSearchCV, KFold"
      ],
      "metadata": {
        "id": "LoUvfCl53kW_"
      },
      "execution_count": null,
      "outputs": []
    },
    {
      "cell_type": "code",
      "source": [
        "\n",
        "def get_nn_model(hiddenLayerOne=500, hiddenLayerTwo=400,dropout=0.3, learnRate=0.3):\n",
        "  model = Sequential()\n",
        "  model.add(Dense(hiddenLayerOne, input_shape=(16,), activation='relu'))\n",
        "  model.add(Dropout(dropout))\n",
        "  model.add(Dense(hiddenLayerTwo, activation='relu'))\n",
        "  model.add(Dropout(dropout))\n",
        "  model.add(Dense(1, activation='sigmoid'))\n",
        "  model.compile(loss='binary_crossentropy', optimizer='adam')\n",
        "  return model\n",
        "\n",
        "estimator = get_nn_model()\n",
        "estimator.fit(x=train_ws, y=train_y, batch_size=16,epochs=10,validation_split=0.2, verbose=0)\n",
        "test_predictions=estimator.predict(test_ws)\n",
        "\n",
        "sum(test_predictions>=0.5)"
      ],
      "metadata": {
        "id": "-27O1u9S34b3"
      },
      "execution_count": null,
      "outputs": []
    },
    {
      "cell_type": "code",
      "source": [
        "# model = KerasClassifier(build_fn=get_nn_model, verbose=0)\n",
        "# hiddenLayerOne = np.arange(100,650,100)\n",
        "# hiddenLayerTwo = np.arange(100,650,100)\n",
        "# learnRate = np.linspace(0.00001,0.1,10,endpoint=True)\n",
        "# # dropout = np.linspace(0.2,0.9,8,endpoint=True)\n",
        "# # batchSize = [32,64,128,256]\n",
        "# # epochs = [10, 20, 30]\n",
        "# # hiddenLayerTwo=hiddenLayerTwo\n",
        "# # dropout=dropout\n",
        "# # batch_size=batchSize\n",
        "# # epochs=epochs\n",
        "# # validation_split=np.linspace(0.2,0.9,8,endpoint=True)\n",
        "# # # create a dictionary from the hyperparameter grid\n",
        "# grid = dict(\n",
        "# \t# dropout=[0.8],\n",
        "# \t# epochs=[20],\n",
        "# \tbatch_size=[32],\n",
        "# \thiddenLayerOne=hiddenLayerOne,\n",
        "# \thiddenLayerTwo=hiddenLayerTwo,\n",
        "#   learnRate= learnRate\n",
        "# )\n",
        "# # print(\"[INFO] performing random search...\")\n",
        "# searcher = GridSearchCV(estimator=model, n_jobs=-1, cv=KFold(shuffle=True,n_splits=5,random_state=412),\n",
        "# \tparam_grid=grid, scoring=\"neg_root_mean_squared_error\")\n",
        "# searchResults = searcher.fit(train_ws, train_y)\n",
        "# # # summarize grid search information\n",
        "# bestParams = searchResults.best_params_\n",
        "# print(\"[INFO] best param is {}\".format(bestParams))"
      ],
      "metadata": {
        "id": "NodEM8_k-ipP"
      },
      "execution_count": null,
      "outputs": []
    }
  ]
}