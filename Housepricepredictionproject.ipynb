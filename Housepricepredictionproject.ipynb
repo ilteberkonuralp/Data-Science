{
  "nbformat": 4,
  "nbformat_minor": 0,
  "metadata": {
    "colab": {
      "name": "Housepricepredictionproject.ipynb",
      "provenance": [],
      "authorship_tag": "ABX9TyMdIsxfcRsdZ01wcFr8zCnu",
      "include_colab_link": true
    },
    "kernelspec": {
      "name": "python3",
      "display_name": "Python 3"
    },
    "language_info": {
      "name": "python"
    }
  },
  "cells": [
    {
      "cell_type": "markdown",
      "metadata": {
        "id": "view-in-github",
        "colab_type": "text"
      },
      "source": [
        "<a href=\"https://colab.research.google.com/github/ilteberkonuralp/Data-Science/blob/master/Housepricepredictionproject.ipynb\" target=\"_parent\"><img src=\"https://colab.research.google.com/assets/colab-badge.svg\" alt=\"Open In Colab\"/></a>"
      ]
    },
    {
      "cell_type": "markdown",
      "source": [
        "# Predict sales prices and practice feature engineering, RFs, and gradient boosting"
      ],
      "metadata": {
        "id": "XEsvNZQDedwY"
      }
    },
    {
      "cell_type": "markdown",
      "source": [
        "![houseimg](https://storage.googleapis.com/kaggle-competitions/kaggle/5407/media/housesbanner.png)"
      ],
      "metadata": {
        "id": "Sp5tj_h7enqM"
      }
    },
    {
      "cell_type": "markdown",
      "source": [
        "# Importing Packages\n"
      ],
      "metadata": {
        "id": "BiI70wIueqnC"
      }
    },
    {
      "cell_type": "code",
      "source": [
        "import numpy as np\n",
        "import pandas as pd\n",
        "import keras\n",
        "from keras.layers import Dense\n",
        "from keras.layers import Dropout\n",
        "from keras.layers import Flatten\n",
        "from keras.models import Sequential\n",
        "from keras.optimizers import Adam\n",
        "from sklearn.tree import DecisionTreeRegressor\n",
        "from xgboost import XGBRegressor\n",
        "from sklearn.model_selection import train_test_split\n",
        "from sklearn.model_selection import GridSearchCV, KFold\n",
        "from sklearn.svm import SVR\n",
        "from sklearn.ensemble import RandomForestRegressor\n",
        "from sklearn.metrics import mean_squared_error\n",
        "from sklearn.metrics import mean_absolute_error\n",
        "from sklearn.metrics import mean_absolute_percentage_error\n",
        "from keras.wrappers.scikit_learn import KerasRegressor"
      ],
      "metadata": {
        "id": "8VZ7BsTXeh4Z"
      },
      "execution_count": null,
      "outputs": []
    },
    {
      "cell_type": "markdown",
      "source": [
        "# Reading Data and Spliting as Test Train\n"
      ],
      "metadata": {
        "id": "sd3B2nlDexaZ"
      }
    },
    {
      "cell_type": "code",
      "source": [
        "traindata=pd.read_csv(\"train.csv\")\n",
        "y_train = traindata['SalePrice']\n",
        "X_train = traindata.drop('SalePrice', axis=1)\n",
        "X_test=pd.read_csv(\"test.csv\")\n"
      ],
      "metadata": {
        "id": "AqTUz3RWesYW"
      },
      "execution_count": null,
      "outputs": []
    },
    {
      "cell_type": "code",
      "source": [
        "print(\"train X shape: \",X_train.shape)\n",
        "print(\"train y shape: \",y_train.shape)\n",
        "print(\"test X shape: \",X_test.shape)"
      ],
      "metadata": {
        "id": "Z-QAtT6tey28"
      },
      "execution_count": null,
      "outputs": []
    },
    {
      "cell_type": "code",
      "source": [
        "X_train.dtypes"
      ],
      "metadata": {
        "id": "EjUyq3SOe0HL"
      },
      "execution_count": null,
      "outputs": []
    },
    {
      "cell_type": "code",
      "source": [
        "X_train_obj=X_train.select_dtypes(include=['object']).copy()\n",
        "X_train_obj.head()"
      ],
      "metadata": {
        "id": "kuP9Ty8je127"
      },
      "execution_count": null,
      "outputs": []
    },
    {
      "cell_type": "code",
      "source": [
        "np.sum(X_train.isnull())"
      ],
      "metadata": {
        "id": "Sq2rRmK0e3Gw"
      },
      "execution_count": null,
      "outputs": []
    },
    {
      "cell_type": "markdown",
      "source": [
        "# Decision Tree Regressor"
      ],
      "metadata": {
        "id": "JZxO8Xoce6Eg"
      }
    },
    {
      "cell_type": "code",
      "source": [
        "# Instantiate a DecisionTreeClassifier 'dt' with a maximum depth of 6\n",
        "dt = DecisionTreeRegressor(random_state=412,max_depth=6,criterion=\"squared_error\")\n",
        "\n",
        "# Fit dt to the training set\n",
        "dt.fit(X_train,y_train)\n",
        "\n",
        "# Predict test set labels\n",
        "test_predictions=dt.predict(X_test)\n",
        "test_rmse=mean_squared_error(y_test, test_predictions, squared=False)\n",
        "test_mae=mean_absolute_error(y_test, test_predictions)\n",
        "test_mape=mean_absolute_percentage_error(y_test,test_predictions)\n",
        "print(\"RMSE: \",test_rmse)\n",
        "print(\"MAE: \",test_mae)\n",
        "print(\"MAPE: \",test_mape)"
      ],
      "metadata": {
        "id": "1ioDEUOke4cv"
      },
      "execution_count": null,
      "outputs": []
    },
    {
      "cell_type": "markdown",
      "source": [
        "# Artificial Neural Network Model\n"
      ],
      "metadata": {
        "id": "OZkr2Usbe9Av"
      }
    },
    {
      "cell_type": "code",
      "source": [
        "def get_nn_model(hiddenLayerOne=500, hiddenLayerTwo=400,\n",
        "\tdropout=0.3, learnRate=0.3):\n",
        "\t\n",
        "\tmodel = Sequential()\n",
        "\tmodel.add(Flatten())\n",
        "    \t# add two stacks of FC => RELU => DROPOUT\n",
        "\tmodel.add(Dense(hiddenLayerOne, activation=\"relu\",\n",
        "\t\tinput_shape=(76,)))\n",
        "\tmodel.add(Dropout(dropout))\n",
        "\tmodel.add(Dense(hiddenLayerTwo, activation=\"relu\"))\n",
        "\tmodel.add(Dropout(dropout))\n",
        "\t# add a softmax layer on top\n",
        "\tmodel.add(Dense(1))\n",
        "\t# compile the model\n",
        "\tmodel.compile(\n",
        "\t\toptimizer=Adam(learning_rate=learnRate),\n",
        "\t\tloss=\"mean_squared_error\")\n",
        "\t# return compiled model\n",
        "\treturn model\n",
        "\n",
        "model_ann = get_nn_model()\n",
        "model_ann.fit(x=X_train, y=y_train,\n",
        "\tbatch_size=16,\n",
        "\tepochs=10,validation_split=0.2)\n",
        "test_predictions=model_ann.predict(X_test)\n",
        "test_rmse=mean_squared_error(y_test, test_predictions, squared=False)\n",
        "test_mae=mean_absolute_error(y_test, test_predictions)\n",
        "test_mape=mean_absolute_percentage_error(y_test,test_predictions)\n",
        "print(\"RMSE: \",test_rmse)\n",
        "print(\"MAE: \",test_mae)\n",
        "print(\"MAPE: \",test_mape)"
      ],
      "metadata": {
        "id": "Zkg_duxke7eh"
      },
      "execution_count": null,
      "outputs": []
    },
    {
      "cell_type": "markdown",
      "source": [
        "## ANN Parameter Tuning\n"
      ],
      "metadata": {
        "id": "znVLXXY6fAlm"
      }
    },
    {
      "cell_type": "code",
      "source": [
        "# model = KerasRegressor(build_fn=get_nn_model, verbose=0)\n",
        "# hiddenLayerOne = np.arange(100,650,100)\n",
        "# hiddenLayerTwo = np.arange(100,650,100)\n",
        "# learnRate = np.linspace(0.00001,0.1,10,endpoint=True)\n",
        "# dropout = np.linspace(0.2,0.9,8,endpoint=True)\n",
        "# batchSize = [32,64,128,256]\n",
        "# epochs = [10, 20, 30]\n",
        "# hiddenLayerTwo=hiddenLayerTwo\n",
        "# dropout=dropout\n",
        "# batch_size=batchSize\n",
        "# epochs=epochs\n",
        "# validation_split=np.linspace(0.2,0.9,8,endpoint=True)\n",
        "# # create a dictionary from the hyperparameter grid\n",
        "# grid = dict(\n",
        "# \tdropout=[0.8],\n",
        "# \tepochs=[20],\n",
        "# \tbatch_size=[32],\n",
        "# \thiddenLayerOne=hiddenLayerOne,\n",
        "# \thiddenLayerTwo=[600],\n",
        "#   learnRate= learnRate\n",
        "# )\n",
        "# print(\"[INFO] performing random search...\")\n",
        "# searcher = GridSearchCV(estimator=model, n_jobs=-1, \n",
        "# \tcv=KFold(shuffle=True,n_splits=5,random_state=412),\n",
        "# \tparam_grid=grid, scoring=\"neg_root_mean_squared_error\")\n",
        "# searchResults = searcher.fit(X_train, y_train)\n",
        "# # summarize grid search information\n",
        "# bestParams = searchResults.best_params_\n",
        "# print(\"[INFO] best param is {}\".format(bestParams))"
      ],
      "metadata": {
        "id": "EBTLI10pe-c6"
      },
      "execution_count": null,
      "outputs": []
    },
    {
      "cell_type": "markdown",
      "source": [
        "## ANN Best Model Results\n"
      ],
      "metadata": {
        "id": "42kEFg1Te_5T"
      }
    },
    {
      "cell_type": "code",
      "source": [
        "model_ann_bp = get_nn_model(hiddenLayerOne=500, hiddenLayerTwo=600,\n",
        "\t\t\t\t\tdropout=0.8,learnRate=0.01)\n",
        "\n",
        "model_ann_bp.fit(x=X_train, y=y_train,\n",
        "\tbatch_size=32,\n",
        "\tepochs=20,validation_split=0.2)\n",
        "test_predictions=model_ann_bp.predict(X_test)\n",
        "test_rmse=mean_squared_error(y_test, test_predictions, squared=False)\n",
        "test_mae=mean_absolute_error(y_test, test_predictions)\n",
        "test_mape=mean_absolute_percentage_error(y_test,test_predictions)\n",
        "print(\"RMSE: \",test_rmse)\n",
        "print(\"MAE: \",test_mae)\n",
        "print(\"MAPE: \",test_mape)\n",
        "# RMSE:  1.2557826908392997\n",
        "# MAE:  1.026227475859509\n",
        "# MAPE:  5.420278132156377"
      ],
      "metadata": {
        "id": "ntmicTTdfFCE"
      },
      "execution_count": null,
      "outputs": []
    },
    {
      "cell_type": "markdown",
      "source": [
        "# XGBoost Model"
      ],
      "metadata": {
        "id": "MpVIAy78fHKL"
      }
    },
    {
      "cell_type": "code",
      "source": [
        "model_xgb = XGBRegressor()\n",
        "model_xgb.fit(X_train, y_train)\n",
        "test_predicts = model_xgb.predict(X_test)\n",
        "test_rmse=mean_squared_error(y_test, test_predicts, squared=False)\n",
        "test_mae=mean_absolute_error(y_test, test_predicts)\n",
        "test_mape=mean_absolute_percentage_error(y_test,test_predicts)\n",
        "print(\"RMSE: \",test_rmse)\n",
        "print(\"MAE: \",test_mae)\n",
        "print(\"MAPE: \",test_mape)\n"
      ],
      "metadata": {
        "id": "NBHh2uD-fIUX"
      },
      "execution_count": null,
      "outputs": []
    },
    {
      "cell_type": "markdown",
      "source": [
        "## XGBoost Parameter Parameter Tuning"
      ],
      "metadata": {
        "id": "Z07Prox6fKAQ"
      }
    },
    {
      "cell_type": "code",
      "source": [
        "# # GridSearchCV\n",
        "# xgb=XGBRegressor()\n",
        "# parameters = {\n",
        "#  \"eta\": np.linspace(0,1,10),\n",
        "#  \"gamma\":[0],\n",
        "#  \"max_depth\":[2,3,4,5,6]\n",
        "#  }\n",
        "# grid = GridSearchCV(estimator=xgb,param_grid=parameters,\n",
        "#  scoring='neg_mean_squared_error', n_jobs=-1, cv=10, verbose=False )\n",
        "# grid.fit(X_train,y_train)\n",
        "# grid.best_estimator_"
      ],
      "metadata": {
        "id": "fTq5snTzfLbH"
      },
      "execution_count": null,
      "outputs": []
    },
    {
      "cell_type": "markdown",
      "source": [
        "## XGBoost Best Model Results\n"
      ],
      "metadata": {
        "id": "FhnYlb0KfNSO"
      }
    },
    {
      "cell_type": "code",
      "source": [
        "model_xgb_best=XGBRegressor(seed=412,eta=0.1111111111,gamma=0,max_depth=5)\n",
        "model_xgb_best.fit(X_train,y_train)\n",
        "test_predicts=model_xgb_best.predict(X_test)\n",
        "test_rmse=mean_squared_error(y_test, test_predicts, squared=False)\n",
        "test_mae=mean_absolute_error(y_test, test_predicts)\n",
        "test_mape=mean_absolute_percentage_error(y_test,test_predicts)\n",
        "print(\"RMSE: \",test_rmse)\n",
        "print(\"MAE: \",test_mae)\n",
        "print(\"MAPE: \",test_mape)"
      ],
      "metadata": {
        "id": "LdSsPiJrfOVY"
      },
      "execution_count": null,
      "outputs": []
    },
    {
      "cell_type": "markdown",
      "source": [
        "# Support Vector Machine Regression\n"
      ],
      "metadata": {
        "id": "07AqHkWkfP3T"
      }
    },
    {
      "cell_type": "code",
      "source": [
        "model_svm=SVR()\n",
        "model_svm.fit(X_train,y_train)\n",
        "test_predicts=model_svm.predict(X_test)\n",
        "test_rmse=mean_squared_error(y_test, test_predicts, squared=False)\n",
        "test_mae=mean_absolute_error(y_test, test_predicts)\n",
        "test_mape=mean_absolute_percentage_error(y_test,test_predicts)\n",
        "print(\"RMSE: \",test_rmse)\n",
        "print(\"MAE: \",test_mae)\n",
        "print(\"MAPE: \",test_mape)"
      ],
      "metadata": {
        "id": "i-wzSYilfRBO"
      },
      "execution_count": null,
      "outputs": []
    },
    {
      "cell_type": "markdown",
      "source": [
        "## Support Vector Machine Regression Tuning"
      ],
      "metadata": {
        "id": "GvTN26_ifTbB"
      }
    },
    {
      "cell_type": "code",
      "source": [
        "# params={\"kernel\":[\"rbf\"],\n",
        "#         \"gamma\":[\"scale\"],\n",
        "#         \"C\": np.linspace(0.1, 1.0, 50)\n",
        "#         }\n",
        "# regr=SVR()\n",
        "# grid = GridSearchCV(estimator=regr,param_grid=params,\n",
        "#  scoring='neg_mean_squared_error', n_jobs=-1,\n",
        "#   cv=KFold(shuffle=True,n_splits=5,random_state=412), verbose=False )\n",
        "# grid.fit(X_train,y_train)\n",
        "# grid.best_params_"
      ],
      "metadata": {
        "id": "Pb6ZlTmAfS2O"
      },
      "execution_count": null,
      "outputs": []
    },
    {
      "cell_type": "markdown",
      "source": [
        "## Support Vector Machine Best Model Results"
      ],
      "metadata": {
        "id": "5uAhG-L3fWhr"
      }
    },
    {
      "cell_type": "code",
      "source": [
        "model_svm_best=SVR(C=1,gamma=\"scale\",kernel=\"rbf\",epsilon=0.3)\n",
        "model_svm_best.fit(X_train, y_train)\n",
        "\n",
        "test_predicts = model_svm_best.predict(X_test)\n",
        "\n",
        "scores_mse=mean_squared_error(y_test, test_predicts, squared=False)\n",
        "scores_mae=mean_absolute_error(y_test, test_predicts)\n",
        "scores_mape=mean_absolute_percentage_error(y_test,test_predicts)\n",
        "print(\"RMSE\",scores_mse)\n",
        "print(\"MAE\",scores_mae)\n",
        "print(\"MAPE\",scores_mape)"
      ],
      "metadata": {
        "id": "it6rmkVlfXqX"
      },
      "execution_count": null,
      "outputs": []
    },
    {
      "cell_type": "markdown",
      "source": [
        "# Random Forest"
      ],
      "metadata": {
        "id": "NXNNAAI6facl"
      }
    },
    {
      "cell_type": "code",
      "source": [
        "# Random Forest Estimation\n",
        "model_rf=RandomForestRegressor()\n",
        "model_rf.fit(X_train,y_train)\n",
        "test_predicts=model_rf.predict(X_test)\n",
        "test_rmse=mean_squared_error(y_test, test_predicts, squared=False)\n",
        "test_mae=mean_absolute_error(y_test, test_predicts)\n",
        "test_mape=mean_absolute_percentage_error(y_test,test_predicts)\n",
        "print(\"RMSE: \",test_rmse)\n",
        "print(\"MAE: \",test_mae)\n",
        "print(\"MAPE: \",test_mape)"
      ],
      "metadata": {
        "id": "lEJoF0OzfYAY"
      },
      "execution_count": null,
      "outputs": []
    },
    {
      "cell_type": "markdown",
      "source": [
        "## Random Forest Tuning"
      ],
      "metadata": {
        "id": "irjQLK0CfcMj"
      }
    },
    {
      "cell_type": "code",
      "source": [
        "# rf=RandomForestRegressor()\n",
        "# rfparams={\n",
        "#     \"n_estimators\":np.array(100,501,50),\n",
        "#     \"max_depth\":np.array(1,51),\n",
        "#     'min_samples_split': [2, 5, 10],\n",
        "#     \"criterion\":[\"squared_error\"],\n",
        "#     \"max_features\":np.arange(1,10)\n",
        "# }\n",
        "# grid = GridSearchCV(estimator=rf,param_grid=rfparams,\n",
        "#  scoring='neg_mean_squared_error', n_jobs=-1,\n",
        "#  cv=KFold(shuffle=True,n_splits=5,random_state=412), verbose=False )\n",
        "#  grid.fit(X_train,y_train)\n",
        "#  grid.best_params_ "
      ],
      "metadata": {
        "id": "eGr1-atPfeLk"
      },
      "execution_count": null,
      "outputs": []
    },
    {
      "cell_type": "markdown",
      "source": [
        "## Random Forest Best Model Results"
      ],
      "metadata": {
        "id": "nampD2oRffrW"
      }
    },
    {
      "cell_type": "code",
      "source": [
        "model_rf_best=RandomForestRegressor(n_estimators=150,max_depth=16,min_samples_split=2,max_features= 9)\n",
        "model_rf_best.fit(X_train,y_train)\n",
        "test_predicts=model_rf_best.predict(X_test)\n",
        "test_rmse=mean_squared_error(y_test, test_predicts, squared=False)\n",
        "test_mae=mean_absolute_error(y_test, test_predicts)\n",
        "test_mape=mean_absolute_percentage_error(y_test,test_predicts)\n",
        "print(\"RMSE: \",test_rmse)\n",
        "print(\"MAE: \",test_mae)\n",
        "print(\"MAPE: \",test_mape)"
      ],
      "metadata": {
        "id": "O8Tm3dsifgtg"
      },
      "execution_count": null,
      "outputs": []
    }
  ]
}